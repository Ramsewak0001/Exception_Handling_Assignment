{
 "cells": [
  {
   "cell_type": "code",
   "execution_count": null,
   "id": "1b79de1e-7073-4bde-ac0d-409de45a60b0",
   "metadata": {},
   "outputs": [],
   "source": [
    "Q1. What is an Exception in python? Write the difference between Exceptions and syntex errors?"
   ]
  },
  {
   "cell_type": "code",
   "execution_count": null,
   "id": "209b7ec7-7a18-41b5-a30a-a8ea4c049a64",
   "metadata": {},
   "outputs": [],
   "source": [
    "Errors are the problems in a program due to which the program will stop the execution.\n",
    "On the other hand, exceptions are raised when some internal events occur which changes the normal flow of the program. \n",
    "Exceptions can be raised intentionally by your code or automatically by the Python interpreter when an error occurs.\n",
    "When an exception is raised, the normal flow of the program is interrupted, and the interpreter looks for an exception\n",
    "handler that can handle the exception.\n",
    "\n",
    "On the other hand, syntax errors are mistakes or violations of the Python language rules. \n",
    "They occur when you write code that does not conform to the syntax rules defined by Python.\n",
    "Syntax errors are caught by the Python interpreter before the program starts executing,\n",
    "so the program doesn't run at all when a syntax error is present."
   ]
  },
  {
   "cell_type": "code",
   "execution_count": null,
   "id": "b6b255be-d04e-476d-aada-a0b747b0913a",
   "metadata": {},
   "outputs": [],
   "source": [
    "-----------------------------------------------------------------------------------------------------------------------------------"
   ]
  },
  {
   "cell_type": "code",
   "execution_count": null,
   "id": "4b1d16b5-cb42-4e8d-aafc-b5a9a003a515",
   "metadata": {},
   "outputs": [],
   "source": [
    "Q2. What happens when an exception is not handled? Explain withan example."
   ]
  },
  {
   "cell_type": "code",
   "execution_count": null,
   "id": "2b76e4a0-55e2-44a0-b9e0-c6cb766de0b9",
   "metadata": {},
   "outputs": [],
   "source": [
    "When an exception is not handled, it results in the termination of the program and an error message is displayed. \n",
    "This error message provides information about the exception that occurred, including the type of exception and\n",
    "the line of code where the exception was raised. \n",
    "\n",
    "for example : "
   ]
  },
  {
   "cell_type": "code",
   "execution_count": 1,
   "id": "9a7a9847-412e-4c3a-ac08-781e4c2c6164",
   "metadata": {},
   "outputs": [
    {
     "name": "stdout",
     "output_type": "stream",
     "text": [
      "This program show an error   division by zero\n"
     ]
    }
   ],
   "source": [
    "try :\n",
    "    num_1 = 4\n",
    "    num_2 = 0\n",
    "    result = num_1/num_2\n",
    "    print(\"The result of division is \",result)\n",
    "except Exception as e :\n",
    "    print(\"This program show an error  \",e)"
   ]
  },
  {
   "cell_type": "code",
   "execution_count": 2,
   "id": "bf800126-810a-43f3-80a1-6300db7155f8",
   "metadata": {},
   "outputs": [
    {
     "name": "stdout",
     "output_type": "stream",
     "text": [
      "division by zero\n"
     ]
    }
   ],
   "source": [
    "## we can define the error also instead of Exception\n",
    "try :\n",
    "    a = 10/0\n",
    "except ZeroDivisionError as e :\n",
    "    print(e)"
   ]
  },
  {
   "cell_type": "code",
   "execution_count": null,
   "id": "ef7329fe-8fd0-4b8d-92b1-daf4f2aebccf",
   "metadata": {},
   "outputs": [],
   "source": [
    "-----------------------------------------------------------------------------------------------------------------------------------"
   ]
  },
  {
   "cell_type": "code",
   "execution_count": null,
   "id": "f6cf6393-f692-4973-9773-eb39d5ede7b9",
   "metadata": {},
   "outputs": [],
   "source": [
    "Q3. Which Python statements are used to catch and handle exceptions? Explain with an example."
   ]
  },
  {
   "cell_type": "code",
   "execution_count": null,
   "id": "7ab3468e-52df-4245-a130-023208c947b7",
   "metadata": {},
   "outputs": [],
   "source": [
    "try-except :\n",
    "           This statement is used to catch and handle exceptions.\n",
    "           try :\n",
    "                This block contains the code that may raise an exception\n",
    "           except :\n",
    "                 This block specifies the handling code that should be executed if a specific exception occurs.\n",
    "for example :"
   ]
  },
  {
   "cell_type": "code",
   "execution_count": 3,
   "id": "7ee291ee-78db-488f-82c1-0d1d5014d44b",
   "metadata": {},
   "outputs": [
    {
     "name": "stdout",
     "output_type": "stream",
     "text": [
      "list index out of range\n"
     ]
    }
   ],
   "source": [
    "try :\n",
    "    l = [2,3,4,5]\n",
    "    print(l[6])\n",
    "except IndexError as e :\n",
    "    print(e)"
   ]
  },
  {
   "cell_type": "code",
   "execution_count": null,
   "id": "1b253f00-e8a5-4686-b912-5e7636d70466",
   "metadata": {},
   "outputs": [],
   "source": [
    "----------------------------------------------------------------------------------------------------------------------------------"
   ]
  },
  {
   "cell_type": "code",
   "execution_count": null,
   "id": "2ead5dad-8117-4816-b2c2-0ee709ea2dd6",
   "metadata": {},
   "outputs": [],
   "source": [
    "Q4. Explain withan example:\n",
    "    a. try and else\n",
    "    b. finally\n",
    "    c. raise"
   ]
  },
  {
   "cell_type": "code",
   "execution_count": null,
   "id": "3e8a6da1-af38-4667-b46f-0b32fbfd1713",
   "metadata": {},
   "outputs": [],
   "source": [
    "try and else: \n",
    "            In Python, the else block can be used with the try statement to execute code when there is no exception raised in the try block.\n",
    "            The else block is executed only if the try block does not raise an exception.\n",
    "            For example:"
   ]
  },
  {
   "cell_type": "code",
   "execution_count": 4,
   "id": "7a45c194-f885-430c-8104-c0beaa08960b",
   "metadata": {},
   "outputs": [
    {
     "name": "stdout",
     "output_type": "stream",
     "text": [
      " this will be executed once your try will execute without error\n"
     ]
    }
   ],
   "source": [
    "try :\n",
    "    f= open(\"test.txt\" , 'w')\n",
    "    f.write(\" write into my file \" )\n",
    "except Exception  as e : \n",
    "    print(\"this is my except block \" , e)\n",
    "else : \n",
    "    f.close()\n",
    "    print(\" this will be executed once your try will execute without error\" )"
   ]
  },
  {
   "cell_type": "code",
   "execution_count": null,
   "id": "8fb217f3-2394-4947-8088-73d8ba8563bf",
   "metadata": {},
   "outputs": [],
   "source": [
    "finally:\n",
    "        The finally block is used with the try statement to execute code regardless of whether an exception is raised or not.\n",
    "        For example :"
   ]
  },
  {
   "cell_type": "code",
   "execution_count": 5,
   "id": "63683428-d972-459e-9eba-d3f29ed1d806",
   "metadata": {},
   "outputs": [
    {
     "name": "stdout",
     "output_type": "stream",
     "text": [
      "list index out of range\n",
      "Programe is Executed\n"
     ]
    }
   ],
   "source": [
    "try :\n",
    "    l = [2,3,4,5]\n",
    "    print(l[6])\n",
    "except IndexError as e :\n",
    "    print(e)\n",
    "finally :\n",
    "    print(\"Programe is Executed\")"
   ]
  },
  {
   "cell_type": "code",
   "execution_count": null,
   "id": "8a0e7760-96b5-49d8-b448-3a650038b6a7",
   "metadata": {},
   "outputs": [],
   "source": [
    "raise: \n",
    "      The raise statement is used to raise an exception manually in Python.  \n",
    "      For example:"
   ]
  },
  {
   "cell_type": "code",
   "execution_count": 25,
   "id": "51325025-5a58-44f8-8629-8d1ba28af7a3",
   "metadata": {},
   "outputs": [
    {
     "ename": "ValueError",
     "evalue": "x cannot be negative",
     "output_type": "error",
     "traceback": [
      "\u001b[0;31m---------------------------------------------------------------------------\u001b[0m",
      "\u001b[0;31mValueError\u001b[0m                                Traceback (most recent call last)",
      "Cell \u001b[0;32mIn[25], line 3\u001b[0m\n\u001b[1;32m      1\u001b[0m x \u001b[38;5;241m=\u001b[39m \u001b[38;5;241m-\u001b[39m\u001b[38;5;241m9\u001b[39m\n\u001b[1;32m      2\u001b[0m \u001b[38;5;28;01mif\u001b[39;00m x \u001b[38;5;241m<\u001b[39m \u001b[38;5;241m0\u001b[39m:\n\u001b[0;32m----> 3\u001b[0m     \u001b[38;5;28;01mraise\u001b[39;00m \u001b[38;5;167;01mValueError\u001b[39;00m(\u001b[38;5;124m\"\u001b[39m\u001b[38;5;124mx cannot be negative\u001b[39m\u001b[38;5;124m\"\u001b[39m)\n",
      "\u001b[0;31mValueError\u001b[0m: x cannot be negative"
     ]
    }
   ],
   "source": [
    "x = -9\n",
    "if x < 0:\n",
    "    raise ValueError(\"x cannot be negative\")"
   ]
  },
  {
   "cell_type": "code",
   "execution_count": null,
   "id": "4fc80e94-ba57-4000-a33c-61ba633e41c7",
   "metadata": {},
   "outputs": [],
   "source": [
    "-----------------------------------------------------------------------------------------------------------------------------------"
   ]
  },
  {
   "cell_type": "code",
   "execution_count": null,
   "id": "5ba1077f-c65d-4575-a6ec-339c708a57e6",
   "metadata": {},
   "outputs": [],
   "source": [
    "Q5. What are Custom Exceptions in python? Why do we need Custom Exceptions? Explain with an example."
   ]
  },
  {
   "cell_type": "code",
   "execution_count": null,
   "id": "370312b0-061f-4ad2-8716-2afbfcf78067",
   "metadata": {},
   "outputs": [],
   "source": [
    "Custom exceptions can be defined in Python by creating a new class that is derived from the built-in Exception class.\n",
    "Custom exceptions are useful when we want to raise an exception that is specific to our program or application.\n",
    "for example :"
   ]
  },
  {
   "cell_type": "code",
   "execution_count": 26,
   "id": "dcf13551-8873-4355-9f9f-4e004a04c069",
   "metadata": {},
   "outputs": [],
   "source": [
    "class validage(Exception):\n",
    "    \n",
    "    def __init__(self,msg):\n",
    "        self.msg = msg"
   ]
  },
  {
   "cell_type": "code",
   "execution_count": 27,
   "id": "5d51d9c7-8fe4-4448-a10d-cad13f547f75",
   "metadata": {},
   "outputs": [],
   "source": [
    "def valid_age(age):\n",
    "    if age < 0:\n",
    "        raise validage(\"The age entered is negative\")\n",
    "    elif age > 200:\n",
    "        raise validage(\"The age entered is very high\")\n",
    "    else :\n",
    "        print(\"The age is valid\")"
   ]
  },
  {
   "cell_type": "code",
   "execution_count": 28,
   "id": "aaaf0a95-2fe9-4d4c-a2fc-76ef330186e3",
   "metadata": {},
   "outputs": [
    {
     "name": "stdin",
     "output_type": "stream",
     "text": [
      "Enter the age  234\n"
     ]
    },
    {
     "name": "stdout",
     "output_type": "stream",
     "text": [
      "The age entered is very high\n"
     ]
    }
   ],
   "source": [
    "try :\n",
    "    age = int(input(\"Enter the age \"))\n",
    "    valid_age(age)\n",
    "except validage as e:\n",
    "    print(e)"
   ]
  },
  {
   "cell_type": "code",
   "execution_count": null,
   "id": "84b64b7d-5bc2-4b45-b17a-3258154027c7",
   "metadata": {},
   "outputs": [],
   "source": [
    "-----------------------------------------------------------------------------------------------------------------------------------"
   ]
  },
  {
   "cell_type": "code",
   "execution_count": null,
   "id": "e13c273d-2c45-4e92-98f4-15c2e64a809b",
   "metadata": {},
   "outputs": [],
   "source": [
    "Q6. Create custom exception class. Use this class to handle an exception."
   ]
  },
  {
   "cell_type": "code",
   "execution_count": 29,
   "id": "23d45b8b-4ac0-48fc-a42a-d857d0d6dab0",
   "metadata": {},
   "outputs": [],
   "source": [
    "class positive_number(Exception):\n",
    "    pass"
   ]
  },
  {
   "cell_type": "code",
   "execution_count": 30,
   "id": "ba439884-8f27-4749-a4f0-48a16dfb9333",
   "metadata": {},
   "outputs": [],
   "source": [
    "def positive(num):\n",
    "    if num < 0:\n",
    "        raise positive_number(\"Negative Number Error\")\n",
    "    else :\n",
    "        print(\"The Number is \",num)"
   ]
  },
  {
   "cell_type": "code",
   "execution_count": null,
   "id": "24ee6995-b764-4468-849c-5d27339b9502",
   "metadata": {},
   "outputs": [],
   "source": [
    "try :\n",
    "    number = int(input(\"Enter a number  \"))\n",
    "    positive(number)\n",
    "except positive_number as e :\n",
    "    print(e)"
   ]
  },
  {
   "cell_type": "code",
   "execution_count": null,
   "id": "e6daea99-20fa-4a82-94fa-5ffe99d6fa15",
   "metadata": {},
   "outputs": [],
   "source": []
  }
 ],
 "metadata": {
  "kernelspec": {
   "display_name": "Python 3 (ipykernel)",
   "language": "python",
   "name": "python3"
  },
  "language_info": {
   "codemirror_mode": {
    "name": "ipython",
    "version": 3
   },
   "file_extension": ".py",
   "mimetype": "text/x-python",
   "name": "python",
   "nbconvert_exporter": "python",
   "pygments_lexer": "ipython3",
   "version": "3.10.8"
  }
 },
 "nbformat": 4,
 "nbformat_minor": 5
}
